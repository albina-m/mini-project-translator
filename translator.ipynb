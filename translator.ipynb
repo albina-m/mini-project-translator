{
 "cells": [
  {
   "cell_type": "code",
   "execution_count": 54,
   "id": "839e8080-a50b-421f-9a50-cea12f66c309",
   "metadata": {},
   "outputs": [],
   "source": [
    "import string\n",
    "import re\n",
    "from numpy import array, argmax, random, take\n",
    "import pandas as pd\n",
    "from keras.models import Sequential\n",
    "from keras.layers import Dense, LSTM, Embedding, RepeatVector\n",
    "from keras.preprocessing.text import Tokenizer\n",
    "from keras.callbacks import ModelCheckpoint\n",
    "from keras.preprocessing.sequence import pad_sequences\n",
    "from keras.models import load_model\n",
    "from keras import optimizers\n",
    "import matplotlib.pyplot as plt\n",
    "%matplotlib inline\n",
    "pd.set_option('display.max_colwidth', 200)"
   ]
  },
  {
   "cell_type": "code",
   "execution_count": 55,
   "id": "57682045-df38-4888-9283-322edb4c4d65",
   "metadata": {},
   "outputs": [],
   "source": [
    "# function to read raw text file\n",
    "def read_text(filename):\n",
    "        # open the file\n",
    "        file = open(filename, mode='rt', encoding='utf-8')\n",
    "        \n",
    "        # read all text\n",
    "        text = file.read()\n",
    "        file.close()\n",
    "        return text"
   ]
  },
  {
   "cell_type": "code",
   "execution_count": 56,
   "id": "4560d001-f41c-4f30-9efc-1025a55db69b",
   "metadata": {},
   "outputs": [],
   "source": [
    "# split a text into sentences\n",
    "def to_lines(text):\n",
    "    sents = text.strip().split('\\n')\n",
    "    sents = [i.split('\\t') for i in sents]\n",
    "    return sents"
   ]
  },
  {
   "cell_type": "code",
   "execution_count": 57,
   "id": "1ad3d8e8-117f-4029-b35f-1ad47afd2c52",
   "metadata": {},
   "outputs": [],
   "source": [
    "data = read_text(\"rus.txt\")\n",
    "rus_eng = to_lines(data)\n",
    "rus_eng = array(rus_eng)"
   ]
  },
  {
   "cell_type": "code",
   "execution_count": 101,
   "id": "c1109cdc-1418-4663-aadf-372e76541671",
   "metadata": {},
   "outputs": [],
   "source": [
    "rus_eng = rus_eng[:5000,:]"
   ]
  },
  {
   "cell_type": "code",
   "execution_count": 102,
   "id": "a50844c2-1770-4aca-9bb7-939bb080d4a8",
   "metadata": {},
   "outputs": [
    {
     "data": {
      "text/plain": [
       "array([['go', 'марш',\n",
       "        'CC-BY 2.0 (France) Attribution: tatoeba.org #2877272 (CM) & #1159202 (shanghainese)'],\n",
       "       ['go', 'иди',\n",
       "        'CC-BY 2.0 (France) Attribution: tatoeba.org #2877272 (CM) & #5898247 (marafon)'],\n",
       "       ['go', 'идите',\n",
       "        'CC-BY 2.0 (France) Attribution: tatoeba.org #2877272 (CM) & #5898250 (marafon)'],\n",
       "       ...,\n",
       "       ['she is nice', 'она хорошая',\n",
       "        'CC-BY 2.0 (France) Attribution: tatoeba.org #2252433 (CM) & #2079280 (marafon)'],\n",
       "       ['she is nice', 'она славная',\n",
       "        'CC-BY 2.0 (France) Attribution: tatoeba.org #2252433 (CM) & #3585875 (sharptoothed)'],\n",
       "       ['she slipped', 'она поскользнулась',\n",
       "        'CC-BY 2.0 (France) Attribution: tatoeba.org #3233875 (CM) & #3136258 (marafon)']],\n",
       "      dtype='<U537')"
      ]
     },
     "execution_count": 102,
     "metadata": {},
     "output_type": "execute_result"
    }
   ],
   "source": [
    "rus_eng[:,0] = [s.translate(str.maketrans('', '', string.punctuation)) for s in rus_eng[:,0]]\n",
    "rus_eng[:,1] = [s.translate(str.maketrans('', '', string.punctuation)) for s in rus_eng[:,1]]\n",
    "\n",
    "rus_eng"
   ]
  },
  {
   "cell_type": "code",
   "execution_count": 103,
   "id": "4a941f84-de9e-42c9-af95-458c6465d9cc",
   "metadata": {},
   "outputs": [
    {
     "data": {
      "text/plain": [
       "array([['go', 'марш',\n",
       "        'CC-BY 2.0 (France) Attribution: tatoeba.org #2877272 (CM) & #1159202 (shanghainese)'],\n",
       "       ['go', 'иди',\n",
       "        'CC-BY 2.0 (France) Attribution: tatoeba.org #2877272 (CM) & #5898247 (marafon)'],\n",
       "       ['go', 'идите',\n",
       "        'CC-BY 2.0 (France) Attribution: tatoeba.org #2877272 (CM) & #5898250 (marafon)'],\n",
       "       ...,\n",
       "       ['she is nice', 'она хорошая',\n",
       "        'CC-BY 2.0 (France) Attribution: tatoeba.org #2252433 (CM) & #2079280 (marafon)'],\n",
       "       ['she is nice', 'она славная',\n",
       "        'CC-BY 2.0 (France) Attribution: tatoeba.org #2252433 (CM) & #3585875 (sharptoothed)'],\n",
       "       ['she slipped', 'она поскользнулась',\n",
       "        'CC-BY 2.0 (France) Attribution: tatoeba.org #3233875 (CM) & #3136258 (marafon)']],\n",
       "      dtype='<U537')"
      ]
     },
     "execution_count": 103,
     "metadata": {},
     "output_type": "execute_result"
    }
   ],
   "source": [
    "for i in range(len(rus_eng)):\n",
    "    rus_eng[i,0] = rus_eng[i,0].lower()\n",
    "    rus_eng[i,1] = rus_eng[i,1].lower()\n",
    "\n",
    "rus_eng"
   ]
  },
  {
   "cell_type": "code",
   "execution_count": 104,
   "id": "9f50c990-b1e2-4a8d-b845-b833fddda08d",
   "metadata": {},
   "outputs": [
    {
     "name": "stderr",
     "output_type": "stream",
     "text": [
      "C:\\Users\\silly\\AppData\\Roaming\\Python\\Python38\\site-packages\\pandas\\plotting\\_matplotlib\\tools.py:331: MatplotlibDeprecationWarning: \n",
      "The is_first_col function was deprecated in Matplotlib 3.4 and will be removed two minor releases later. Use ax.get_subplotspec().is_first_col() instead.\n",
      "  if ax.is_first_col():\n"
     ]
    },
    {
     "data": {
      "image/png": "[encoded data removed]",
      "text/plain": [
       "<Figure size 432x288 with 2 Axes>"
      ]
     },
     "metadata": {
      "needs_background": "light"
     },
     "output_type": "display_data"
    }
   ],
   "source": [
    "eng_l = []\n",
    "rus_l = []\n",
    "\n",
    "# populate the lists with sentence lengths\n",
    "for i in rus_eng[:,0]:\n",
    "      eng_l.append(len(i.split()))\n",
    "\n",
    "for i in rus_eng[:,1]:\n",
    "      rus_l.append(len(i.split()))\n",
    "\n",
    "length_df = pd.DataFrame({'eng':eng_l, 'rus':rus_l})\n",
    "\n",
    "length_df.hist(bins = 30)\n",
    "plt.show()"
   ]
  },
  {
   "cell_type": "code",
   "execution_count": 105,
   "id": "5927c187-9434-417c-b9d0-895261fab114",
   "metadata": {},
   "outputs": [],
   "source": [
    "# function to build a tokenizer\n",
    "def tokenization(lines):\n",
    "    tokenizer = Tokenizer()\n",
    "    tokenizer.fit_on_texts(lines)\n",
    "    return tokenizer"
   ]
  },
  {
   "cell_type": "code",
   "execution_count": 106,
   "id": "c4599dd3-6132-4acd-adaf-a1fcfe7b5e8b",
   "metadata": {},
   "outputs": [
    {
     "data": {
      "text/plain": [
       "array(['марш', 'иди', 'идите', ..., 'она хорошая', 'она славная',\n",
       "       'она поскользнулась'], dtype='<U537')"
      ]
     },
     "execution_count": 106,
     "metadata": {},
     "output_type": "execute_result"
    }
   ],
   "source": [
    "rus_eng[:,1]"
   ]
  },
  {
   "cell_type": "code",
   "execution_count": 107,
   "id": "930b37d8-0bb4-4e49-90d6-54d3e21a99d0",
   "metadata": {},
   "outputs": [
    {
     "name": "stdout",
     "output_type": "stream",
     "text": [
      "English Vocabulary Size: 1105\n"
     ]
    }
   ],
   "source": [
    "# prepare english tokenizer\n",
    "eng_tokenizer = tokenization(rus_eng[:, 0])\n",
    "eng_vocab_size = len(eng_tokenizer.word_index) + 1\n",
    "\n",
    "eng_length = 8\n",
    "print('English Vocabulary Size: %d' % eng_vocab_size)"
   ]
  },
  {
   "cell_type": "code",
   "execution_count": 108,
   "id": "d2606faa-50b8-4023-994c-93935fcc2733",
   "metadata": {},
   "outputs": [
    {
     "name": "stdout",
     "output_type": "stream",
     "text": [
      "Russian Vocabulary Size: 2848\n"
     ]
    }
   ],
   "source": [
    "# prepare Deutch tokenizer\n",
    "rus_tokenizer = tokenization(rus_eng[:, 1])\n",
    "rus_vocab_size = len(rus_tokenizer.word_index) + 1\n",
    "\n",
    "rus_length = 8\n",
    "print('Russian Vocabulary Size: %d' % rus_vocab_size)"
   ]
  },
  {
   "cell_type": "code",
   "execution_count": 109,
   "id": "0c0d45eb-6547-4221-bd7a-8f6bf7b2b799",
   "metadata": {},
   "outputs": [],
   "source": [
    "def encode_sequences(tokenizer, length, lines):\n",
    "    # integer encode sequences\n",
    "    seq = tokenizer.texts_to_sequences(lines)\n",
    "    # pad sequences with 0 values\n",
    "    seq = pad_sequences(seq, maxlen=length, padding='post')\n",
    "    return seq"
   ]
  },
  {
   "cell_type": "code",
   "execution_count": 110,
   "id": "a70be61f-1d64-4b7a-ac8b-0901c8484e7f",
   "metadata": {},
   "outputs": [],
   "source": [
    "from sklearn.model_selection import train_test_split\n",
    "\n",
    "# split data into train and test set\n",
    "train, test = train_test_split(rus_eng, test_size=0.2)"
   ]
  },
  {
   "cell_type": "code",
   "execution_count": 111,
   "id": "df80085f-38e6-4c41-99f8-ed7af80f5406",
   "metadata": {},
   "outputs": [],
   "source": [
    "# prepare training data\n",
    "trainX = encode_sequences(rus_tokenizer, rus_length, train[:, 1])\n",
    "trainY = encode_sequences(eng_tokenizer, eng_length, train[:, 0])\n",
    "\n",
    "# prepare validation data\n",
    "testX = encode_sequences(rus_tokenizer, rus_length, test[:, 1])\n",
    "testY = encode_sequences(eng_tokenizer, eng_length, test[:, 0])"
   ]
  },
  {
   "cell_type": "code",
   "execution_count": 112,
   "id": "131597c7-09b6-4541-b09c-dfdb2887564d",
   "metadata": {},
   "outputs": [],
   "source": [
    "# build NMT model\n",
    "def define_model(in_vocab,out_vocab, in_timesteps,out_timesteps,units):\n",
    "    model = Sequential()\n",
    "    model.add(Embedding(in_vocab, units, input_length=in_timesteps, mask_zero=True))\n",
    "    model.add(LSTM(units))\n",
    "    model.add(RepeatVector(out_timesteps))\n",
    "    model.add(LSTM(units, return_sequences=True))\n",
    "    model.add(Dense(out_vocab, activation='softmax'))\n",
    "    return model"
   ]
  },
  {
   "cell_type": "code",
   "execution_count": 146,
   "id": "4328448a-c85a-4bc7-965f-26b236c836db",
   "metadata": {},
   "outputs": [],
   "source": [
    "# model compilation\n",
    "from tensorflow.keras import optimizers\n",
    "model = define_model(rus_vocab_size, eng_vocab_size, rus_length, eng_length, 512)\n",
    "#rms = optimizers.RMSprop(learning_rate=0.001)\n",
    "model.compile(optimizer='adam', loss='sparse_categorical_crossentropy',\n",
    "                    metrics=[\"accuracy\"])"
   ]
  },
  {
   "cell_type": "code",
   "execution_count": 157,
   "id": "65c2df96-0212-4dc1-baf2-267c054528a8",
   "metadata": {},
   "outputs": [
    {
     "name": "stdout",
     "output_type": "stream",
     "text": [
      "Epoch 1/50\n",
      "88/88 [==============================] - 180s 496ms/step - loss: 0.1371 - accuracy: 0.9613 - val_loss: 0.9041 - val_accuracy: 0.8701\n",
      "Epoch 2/50\n",
      "88/88 [==============================] - 36s 411ms/step - loss: 0.1143 - accuracy: 0.9685 - val_loss: 0.9254 - val_accuracy: 0.8673\n",
      "Epoch 3/50\n",
      "88/88 [==============================] - 35s 401ms/step - loss: 0.1003 - accuracy: 0.9712 - val_loss: 0.9394 - val_accuracy: 0.8667\n",
      "Epoch 4/50\n",
      "88/88 [==============================] - 34s 382ms/step - loss: 0.0893 - accuracy: 0.9717 - val_loss: 0.9479 - val_accuracy: 0.8640\n",
      "Epoch 5/50\n",
      "88/88 [==============================] - 35s 393ms/step - loss: 0.0788 - accuracy: 0.9744 - val_loss: 0.9665 - val_accuracy: 0.8621\n",
      "Epoch 6/50\n",
      "88/88 [==============================] - 37s 417ms/step - loss: 0.0724 - accuracy: 0.9752 - val_loss: 0.9691 - val_accuracy: 0.8651\n",
      "Epoch 7/50\n",
      "88/88 [==============================] - 35s 399ms/step - loss: 0.0666 - accuracy: 0.9751 - val_loss: 0.9807 - val_accuracy: 0.8641\n",
      "Epoch 8/50\n",
      "88/88 [==============================] - 54s 613ms/step - loss: 0.0635 - accuracy: 0.9761 - val_loss: 0.9919 - val_accuracy: 0.8628\n",
      "Epoch 9/50\n",
      "88/88 [==============================] - 37s 418ms/step - loss: 0.0598 - accuracy: 0.9762 - val_loss: 0.9914 - val_accuracy: 0.8660\n",
      "Epoch 10/50\n",
      "88/88 [==============================] - 35s 396ms/step - loss: 0.0579 - accuracy: 0.9746 - val_loss: 1.0045 - val_accuracy: 0.8631\n",
      "Epoch 11/50\n",
      "88/88 [==============================] - 34s 388ms/step - loss: 0.0560 - accuracy: 0.9754 - val_loss: 1.0121 - val_accuracy: 0.8617\n",
      "Epoch 12/50\n",
      "88/88 [==============================] - 36s 414ms/step - loss: 0.0534 - accuracy: 0.9762 - val_loss: 1.0233 - val_accuracy: 0.8632\n",
      "Epoch 13/50\n",
      "88/88 [==============================] - 36s 407ms/step - loss: 0.0526 - accuracy: 0.9764 - val_loss: 1.0307 - val_accuracy: 0.8594\n",
      "Epoch 14/50\n",
      "88/88 [==============================] - 36s 408ms/step - loss: 0.0526 - accuracy: 0.9753 - val_loss: 1.0292 - val_accuracy: 0.8623\n",
      "Epoch 15/50\n",
      "88/88 [==============================] - 38s 437ms/step - loss: 0.0530 - accuracy: 0.9747 - val_loss: 1.0389 - val_accuracy: 0.8637\n",
      "Epoch 16/50\n",
      "88/88 [==============================] - 41s 467ms/step - loss: 0.0494 - accuracy: 0.9761 - val_loss: 1.0496 - val_accuracy: 0.8618\n",
      "Epoch 17/50\n",
      "88/88 [==============================] - 42s 476ms/step - loss: 0.0495 - accuracy: 0.9761 - val_loss: 1.0483 - val_accuracy: 0.8633\n",
      "Epoch 18/50\n",
      "88/88 [==============================] - 37s 416ms/step - loss: 0.0490 - accuracy: 0.9750 - val_loss: 1.0693 - val_accuracy: 0.8548\n",
      "Epoch 19/50\n",
      "88/88 [==============================] - 39s 448ms/step - loss: 0.0482 - accuracy: 0.9767 - val_loss: 1.0560 - val_accuracy: 0.8626\n",
      "Epoch 20/50\n",
      "88/88 [==============================] - 36s 415ms/step - loss: 0.0482 - accuracy: 0.9755 - val_loss: 1.0683 - val_accuracy: 0.8572\n",
      "Epoch 21/50\n",
      "88/88 [==============================] - 37s 416ms/step - loss: 0.0470 - accuracy: 0.9770 - val_loss: 1.0659 - val_accuracy: 0.8621\n",
      "Epoch 22/50\n",
      "88/88 [==============================] - 37s 422ms/step - loss: 0.0463 - accuracy: 0.9749 - val_loss: 1.0742 - val_accuracy: 0.8594\n",
      "Epoch 23/50\n",
      "88/88 [==============================] - 35s 397ms/step - loss: 0.0457 - accuracy: 0.9766 - val_loss: 1.0737 - val_accuracy: 0.8628\n",
      "Epoch 24/50\n",
      "88/88 [==============================] - 37s 419ms/step - loss: 0.0463 - accuracy: 0.9748 - val_loss: 1.0846 - val_accuracy: 0.8610\n",
      "Epoch 25/50\n",
      "88/88 [==============================] - 35s 400ms/step - loss: 0.0452 - accuracy: 0.9765 - val_loss: 1.0891 - val_accuracy: 0.8610\n",
      "Epoch 26/50\n",
      "88/88 [==============================] - 35s 394ms/step - loss: 0.0445 - accuracy: 0.9771 - val_loss: 1.0976 - val_accuracy: 0.8572\n",
      "Epoch 27/50\n",
      "88/88 [==============================] - 35s 396ms/step - loss: 0.0459 - accuracy: 0.9755 - val_loss: 1.0991 - val_accuracy: 0.8558\n",
      "Epoch 28/50\n",
      "88/88 [==============================] - 36s 407ms/step - loss: 0.0448 - accuracy: 0.9764 - val_loss: 1.0936 - val_accuracy: 0.8580\n",
      "Epoch 29/50\n",
      "88/88 [==============================] - 37s 427ms/step - loss: 0.0449 - accuracy: 0.9776 - val_loss: 1.1102 - val_accuracy: 0.8573\n",
      "Epoch 30/50\n",
      "88/88 [==============================] - 36s 405ms/step - loss: 0.0443 - accuracy: 0.9768 - val_loss: 1.1193 - val_accuracy: 0.8576\n",
      "Epoch 31/50\n",
      "88/88 [==============================] - 36s 407ms/step - loss: 0.0446 - accuracy: 0.9767 - val_loss: 1.0976 - val_accuracy: 0.8607\n",
      "Epoch 32/50\n",
      "88/88 [==============================] - 35s 395ms/step - loss: 0.0456 - accuracy: 0.9761 - val_loss: 1.1203 - val_accuracy: 0.8586\n",
      "Epoch 33/50\n",
      "88/88 [==============================] - 34s 389ms/step - loss: 0.0474 - accuracy: 0.9752 - val_loss: 1.1278 - val_accuracy: 0.8542\n",
      "Epoch 34/50\n",
      "88/88 [==============================] - 35s 397ms/step - loss: 0.0547 - accuracy: 0.9729 - val_loss: 1.1181 - val_accuracy: 0.8545\n",
      "Epoch 35/50\n",
      "88/88 [==============================] - 35s 394ms/step - loss: 0.0565 - accuracy: 0.9731 - val_loss: 1.1474 - val_accuracy: 0.8516\n",
      "Epoch 36/50\n",
      "88/88 [==============================] - 34s 382ms/step - loss: 0.0662 - accuracy: 0.9713 - val_loss: 1.1474 - val_accuracy: 0.8483\n",
      "Epoch 37/50\n",
      "88/88 [==============================] - 34s 390ms/step - loss: 0.0645 - accuracy: 0.9722 - val_loss: 1.1482 - val_accuracy: 0.8536\n",
      "Epoch 38/50\n",
      "88/88 [==============================] - 32s 368ms/step - loss: 0.0588 - accuracy: 0.9740 - val_loss: 1.1487 - val_accuracy: 0.8550\n",
      "Epoch 39/50\n",
      "88/88 [==============================] - 35s 397ms/step - loss: 0.0531 - accuracy: 0.9743 - val_loss: 1.1604 - val_accuracy: 0.8537\n",
      "Epoch 40/50\n",
      "88/88 [==============================] - 34s 392ms/step - loss: 0.0477 - accuracy: 0.9765 - val_loss: 1.1612 - val_accuracy: 0.8568\n",
      "Epoch 41/50\n",
      "88/88 [==============================] - 33s 374ms/step - loss: 0.0426 - accuracy: 0.9761 - val_loss: 1.1536 - val_accuracy: 0.8559\n",
      "Epoch 42/50\n",
      "88/88 [==============================] - 34s 391ms/step - loss: 0.0416 - accuracy: 0.9763 - val_loss: 1.1662 - val_accuracy: 0.8564\n",
      "Epoch 43/50\n",
      "88/88 [==============================] - 34s 386ms/step - loss: 0.0414 - accuracy: 0.9763 - val_loss: 1.1635 - val_accuracy: 0.8551\n",
      "Epoch 44/50\n",
      "88/88 [==============================] - 35s 401ms/step - loss: 0.0401 - accuracy: 0.9763 - val_loss: 1.1730 - val_accuracy: 0.8570\n",
      "Epoch 45/50\n",
      "88/88 [==============================] - 33s 378ms/step - loss: 0.0403 - accuracy: 0.9757 - val_loss: 1.1725 - val_accuracy: 0.8568\n",
      "Epoch 46/50\n",
      "88/88 [==============================] - 35s 395ms/step - loss: 0.0389 - accuracy: 0.9766 - val_loss: 1.1831 - val_accuracy: 0.8539\n",
      "Epoch 47/50\n",
      "88/88 [==============================] - 33s 377ms/step - loss: 0.0386 - accuracy: 0.9762 - val_loss: 1.1811 - val_accuracy: 0.8547\n",
      "Epoch 48/50\n",
      "88/88 [==============================] - 34s 388ms/step - loss: 0.0390 - accuracy: 0.9774 - val_loss: 1.1943 - val_accuracy: 0.8585\n",
      "Epoch 49/50\n",
      "88/88 [==============================] - 34s 383ms/step - loss: 0.0403 - accuracy: 0.9764 - val_loss: 1.1910 - val_accuracy: 0.8573\n",
      "Epoch 50/50\n",
      "88/88 [==============================] - 33s 380ms/step - loss: 0.0388 - accuracy: 0.9767 - val_loss: 1.1924 - val_accuracy: 0.8573\n"
     ]
    }
   ],
   "source": [
    "#filename = 'model.h1.24_sep_16'\n",
    "#checkpoint = ModelCheckpoint(filename, monitor='val_loss', verbose=1, save_best_only=True, mode='min')\n",
    "\n",
    "# model.save(\"s2\", save_format=\"h5\")\n",
    "# train model\n",
    "\n",
    "history = model.fit(trainX, trainY.reshape(trainY.shape[0], trainY.shape[1], 1),\n",
    "                    batch_size=32,\n",
    "                    epochs=50,\n",
    "                    validation_split=0.3)\n",
    "                    #callbacks=[checkpoint],\n",
    "                    #verbose=1)\n",
    "#epochs=10, batch_size=512, validation_split = 0.2,callbacks=[checkpoint], \n",
    "#                    verbose=1)\n",
    "# Save model\n",
    "model.save(\"s2_2\", save_format=\"h5\")"
   ]
  },
  {
   "cell_type": "code",
   "execution_count": 158,
   "id": "d67e3e49-17ad-4c24-9262-d5f6648dbe96",
   "metadata": {},
   "outputs": [
    {
     "data": {
      "image/png": "[encoded data removed]",
      "text/plain": [
       "<Figure size 432x288 with 1 Axes>"
      ]
     },
     "metadata": {
      "needs_background": "light"
     },
     "output_type": "display_data"
    }
   ],
   "source": [
    "plt.plot(history.history['loss'])\n",
    "plt.plot(history.history['val_loss'])\n",
    "plt.legend(['train','validation'])\n",
    "plt.show()"
   ]
  },
  {
   "cell_type": "code",
   "execution_count": 159,
   "id": "d1ffb92f-9739-4ea9-bb13-cb82e3574982",
   "metadata": {},
   "outputs": [],
   "source": [
    "model = load_model('s2_2')\n",
    "#preds = model.predict_classes(testX.reshape((testX.shape[0],testX.shape[1])))\n",
    "#np.argmax(model.predict(x), axis=-1)\n",
    "predict_x=model.predict(testX.reshape((testX.shape[0],testX.shape[1]))) \n",
    "classes_x=argmax(predict_x, axis = -1)"
   ]
  },
  {
   "cell_type": "code",
   "execution_count": 121,
   "id": "030b41fa-b7aa-4890-b3e2-2612beaef1b4",
   "metadata": {},
   "outputs": [],
   "source": [
    "def get_word(n, tokenizer):\n",
    "    for word, index in tokenizer.word_index.items():\n",
    "        if index == n:\n",
    "            return word\n",
    "    return None"
   ]
  },
  {
   "cell_type": "code",
   "execution_count": 160,
   "id": "10d81686-e0c7-417d-91bd-e717bcb047d5",
   "metadata": {},
   "outputs": [],
   "source": [
    "preds_text = []\n",
    "for i in classes_x:\n",
    "    temp = []\n",
    "    for j in range(len(i)):\n",
    "        t = get_word(i[j], eng_tokenizer)\n",
    "        if j > 0:\n",
    "            if (t == get_word(i[j-1], eng_tokenizer)) or (t == None):\n",
    "                temp.append('')\n",
    "            else:\n",
    "                temp.append(t)\n",
    "        else:\n",
    "            if(t == None):\n",
    "                temp.append('')\n",
    "            else:\n",
    "                temp.append(t) \n",
    "\n",
    "    preds_text.append(' '.join(temp))\n"
   ]
  },
  {
   "cell_type": "code",
   "execution_count": 175,
   "id": "8e4bc070-241a-4238-b990-8ad2e0cd6c9d",
   "metadata": {},
   "outputs": [],
   "source": [
    "def predict(word):\n",
    "    preds_text = []\n",
    "    for i in classes_x:\n",
    "        temp = []\n",
    "        for j in range(len(i)):\n",
    "            t = word\n",
    "            if j > 0:\n",
    "                if (t == word) or (t == None):\n",
    "                    temp.append('')\n",
    "                else:\n",
    "                    temp.append(t)\n",
    "            else:\n",
    "                if(t == None):\n",
    "                    temp.append('')\n",
    "                else:\n",
    "                    temp.append(t) \n",
    "\n",
    "    preds_text.append(' '.join(temp))\n",
    "    return preds_text"
   ]
  },
  {
   "cell_type": "code",
   "execution_count": null,
   "id": "fd05c7ed-2ef6-4384-aa87-bb967c6e85d0",
   "metadata": {},
   "outputs": [],
   "source": []
  },
  {
   "cell_type": "code",
   "execution_count": 153,
   "id": "6ec0daa0-1f02-4806-be81-ab01e3b31009",
   "metadata": {},
   "outputs": [
    {
     "data": {
      "text/plain": [
       "array([['i hate milk', 'я ненавижу молоко',\n",
       "        'CC-BY 2.0 (France) Attribution: tatoeba.org #3177296 (Theocracy) & #3689623 (Selena777)'],\n",
       "       ['do come in', 'входи же',\n",
       "        'CC-BY 2.0 (France) Attribution: tatoeba.org #2245265 (CK) & #5891027 (marafon)'],\n",
       "       ['i came back', 'я вернулась',\n",
       "        'CC-BY 2.0 (France) Attribution: tatoeba.org #2245637 (CK) & #2732466 (afyodor)'],\n",
       "       ...,\n",
       "       ['be ruthless', 'будьте беспощадны',\n",
       "        'CC-BY 2.0 (France) Attribution: tatoeba.org #2111957 (CK) & #3294738 (marafon)'],\n",
       "       ['keep that', 'оставь это себе',\n",
       "        'CC-BY 2.0 (France) Attribution: tatoeba.org #2111634 (CK) & #2771283 (marafon)'],\n",
       "       ['look again', 'посмотрите ещё раз',\n",
       "        'CC-BY 2.0 (France) Attribution: tatoeba.org #2111614 (CK) & #5048197 (marafon)']],\n",
       "      dtype='<U537')"
      ]
     },
     "execution_count": 153,
     "metadata": {},
     "output_type": "execute_result"
    }
   ],
   "source": [
    "test"
   ]
  },
  {
   "cell_type": "code",
   "execution_count": 182,
   "id": "355d1747-3c10-43c2-993c-9ad23c77eb9e",
   "metadata": {},
   "outputs": [],
   "source": [
    "pred_df_1 = pd.DataFrame({'input rus': test[:,1],'actual eng' : test[:,0], 'predicted eng' : preds_text })"
   ]
  },
  {
   "cell_type": "code",
   "execution_count": 163,
   "id": "83c84cd4-2b8b-46e1-907d-75c62049e3eb",
   "metadata": {},
   "outputs": [
    {
     "data": {
      "text/html": [
       "<div>\n",
       "<style scoped>\n",
       "    .dataframe tbody tr th:only-of-type {\n",
       "        vertical-align: middle;\n",
       "    }\n",
       "\n",
       "    .dataframe tbody tr th {\n",
       "        vertical-align: top;\n",
       "    }\n",
       "\n",
       "    .dataframe thead th {\n",
       "        text-align: right;\n",
       "    }\n",
       "</style>\n",
       "<table border=\"1\" class=\"dataframe\">\n",
       "  <thead>\n",
       "    <tr style=\"text-align: right;\">\n",
       "      <th></th>\n",
       "      <th>input rus</th>\n",
       "      <th>actual eng</th>\n",
       "      <th>predicted eng</th>\n",
       "    </tr>\n",
       "  </thead>\n",
       "  <tbody>\n",
       "    <tr>\n",
       "      <th>914</th>\n",
       "      <td>прекратите это</td>\n",
       "      <td>cut it out</td>\n",
       "      <td>stop that</td>\n",
       "    </tr>\n",
       "    <tr>\n",
       "      <th>578</th>\n",
       "      <td>я не буду плакать</td>\n",
       "      <td>i wont cry</td>\n",
       "      <td>im not</td>\n",
       "    </tr>\n",
       "    <tr>\n",
       "      <th>954</th>\n",
       "      <td>я навеселе</td>\n",
       "      <td>im tipsy</td>\n",
       "      <td>im am</td>\n",
       "    </tr>\n",
       "    <tr>\n",
       "      <th>108</th>\n",
       "      <td>рассчитывай на меня</td>\n",
       "      <td>count on me</td>\n",
       "      <td>marry me</td>\n",
       "    </tr>\n",
       "    <tr>\n",
       "      <th>347</th>\n",
       "      <td>будьте безжалостны</td>\n",
       "      <td>be ruthless</td>\n",
       "      <td>be punctual</td>\n",
       "    </tr>\n",
       "    <tr>\n",
       "      <th>77</th>\n",
       "      <td>понятно</td>\n",
       "      <td>i see</td>\n",
       "      <td>get out</td>\n",
       "    </tr>\n",
       "    <tr>\n",
       "      <th>968</th>\n",
       "      <td>том свободен</td>\n",
       "      <td>toms free</td>\n",
       "      <td>tom snores</td>\n",
       "    </tr>\n",
       "    <tr>\n",
       "      <th>50</th>\n",
       "      <td>я бы это сделал</td>\n",
       "      <td>id do that</td>\n",
       "      <td>id buy it</td>\n",
       "    </tr>\n",
       "    <tr>\n",
       "      <th>461</th>\n",
       "      <td>у меня дети</td>\n",
       "      <td>i have kids</td>\n",
       "      <td>i have time</td>\n",
       "    </tr>\n",
       "    <tr>\n",
       "      <th>229</th>\n",
       "      <td>можно ли мне начать</td>\n",
       "      <td>can i begin</td>\n",
       "      <td>can i begin</td>\n",
       "    </tr>\n",
       "    <tr>\n",
       "      <th>936</th>\n",
       "      <td>он псих</td>\n",
       "      <td>he is crazy</td>\n",
       "      <td>he is</td>\n",
       "    </tr>\n",
       "    <tr>\n",
       "      <th>807</th>\n",
       "      <td>я остался</td>\n",
       "      <td>i stayed</td>\n",
       "      <td>im am</td>\n",
       "    </tr>\n",
       "    <tr>\n",
       "      <th>430</th>\n",
       "      <td>у него есть вино</td>\n",
       "      <td>he has wine</td>\n",
       "      <td>i have eat</td>\n",
       "    </tr>\n",
       "    <tr>\n",
       "      <th>922</th>\n",
       "      <td>всё закончилось</td>\n",
       "      <td>its over</td>\n",
       "      <td>all is</td>\n",
       "    </tr>\n",
       "    <tr>\n",
       "      <th>227</th>\n",
       "      <td>не переключайтесь</td>\n",
       "      <td>stand by</td>\n",
       "      <td>dont move</td>\n",
       "    </tr>\n",
       "  </tbody>\n",
       "</table>\n",
       "</div>"
      ],
      "text/plain": [
       "               input rus   actual eng      predicted eng\n",
       "914       прекратите это   cut it out    stop that      \n",
       "578    я не буду плакать   i wont cry       im not      \n",
       "954           я навеселе     im tipsy        im am      \n",
       "108  рассчитывай на меня  count on me     marry me      \n",
       "347   будьте безжалостны  be ruthless  be punctual      \n",
       "77               понятно        i see      get out      \n",
       "968         том свободен    toms free   tom snores      \n",
       "50       я бы это сделал   id do that     id buy it     \n",
       "461          у меня дети  i have kids   i have time     \n",
       "229  можно ли мне начать  can i begin   can i begin     \n",
       "936              он псих  he is crazy        he is      \n",
       "807            я остался     i stayed        im am      \n",
       "430     у него есть вино  he has wine    i have eat     \n",
       "922      всё закончилось     its over       all is      \n",
       "227    не переключайтесь     stand by    dont move      "
      ]
     },
     "execution_count": 183,
     "metadata": {},
     "output_type": "execute_result"
    }
   ],
   "source": [
    "pred_df_1.sample(15)"
   ]
  },
  {
   "cell_type": "code",
   "execution_count": 166,
   "id": "c73a7af4-21ad-4c95-bc47-a01f79ee1ac2",
   "metadata": {},
   "outputs": [
    {
     "data": {
      "text/html": [
       "<div>\n",
       "<style scoped>\n",
       "    .dataframe tbody tr th:only-of-type {\n",
       "        vertical-align: middle;\n",
       "    }\n",
       "\n",
       "    .dataframe tbody tr th {\n",
       "        vertical-align: top;\n",
       "    }\n",
       "\n",
       "    .dataframe thead th {\n",
       "        text-align: right;\n",
       "    }\n",
       "</style>\n",
       "<table border=\"1\" class=\"dataframe\">\n",
       "  <thead>\n",
       "    <tr style=\"text-align: right;\">\n",
       "      <th></th>\n",
       "      <th>input rus</th>\n",
       "      <th>actual eng</th>\n",
       "      <th>predicted eng</th>\n",
       "    </tr>\n",
       "  </thead>\n",
       "  <tbody>\n",
       "    <tr>\n",
       "      <th>910</th>\n",
       "      <td>вы пытались</td>\n",
       "      <td>you tried</td>\n",
       "      <td>you tried</td>\n",
       "    </tr>\n",
       "    <tr>\n",
       "      <th>259</th>\n",
       "      <td>я его закопал</td>\n",
       "      <td>i buried it</td>\n",
       "      <td>i said it</td>\n",
       "    </tr>\n",
       "    <tr>\n",
       "      <th>87</th>\n",
       "      <td>я спасла тебя</td>\n",
       "      <td>i saved you</td>\n",
       "      <td>i know you</td>\n",
       "    </tr>\n",
       "    <tr>\n",
       "      <th>663</th>\n",
       "      <td>я её закопал</td>\n",
       "      <td>i buried it</td>\n",
       "      <td>i could it</td>\n",
       "    </tr>\n",
       "    <tr>\n",
       "      <th>793</th>\n",
       "      <td>давай попробуем</td>\n",
       "      <td>lets try</td>\n",
       "      <td>lets try</td>\n",
       "    </tr>\n",
       "    <tr>\n",
       "      <th>388</th>\n",
       "      <td>оно мне нужно</td>\n",
       "      <td>i need it</td>\n",
       "      <td>i need it</td>\n",
       "    </tr>\n",
       "    <tr>\n",
       "      <th>191</th>\n",
       "      <td>я спросил почему</td>\n",
       "      <td>i asked why</td>\n",
       "      <td>i work well</td>\n",
       "    </tr>\n",
       "    <tr>\n",
       "      <th>430</th>\n",
       "      <td>у него есть вино</td>\n",
       "      <td>he has wine</td>\n",
       "      <td>i have eat</td>\n",
       "    </tr>\n",
       "    <tr>\n",
       "      <th>845</th>\n",
       "      <td>мне хочется пить</td>\n",
       "      <td>im thirsty</td>\n",
       "      <td>im thirsty</td>\n",
       "    </tr>\n",
       "    <tr>\n",
       "      <th>397</th>\n",
       "      <td>одно синее</td>\n",
       "      <td>one is blue</td>\n",
       "      <td>what we</td>\n",
       "    </tr>\n",
       "    <tr>\n",
       "      <th>604</th>\n",
       "      <td>я её сжёг</td>\n",
       "      <td>i burned it</td>\n",
       "      <td>i could it</td>\n",
       "    </tr>\n",
       "    <tr>\n",
       "      <th>2</th>\n",
       "      <td>я вернулась</td>\n",
       "      <td>i came back</td>\n",
       "      <td>im buying</td>\n",
       "    </tr>\n",
       "    <tr>\n",
       "      <th>368</th>\n",
       "      <td>я благоразумна</td>\n",
       "      <td>im prudent</td>\n",
       "      <td>im stunned</td>\n",
       "    </tr>\n",
       "    <tr>\n",
       "      <th>92</th>\n",
       "      <td>отойдите</td>\n",
       "      <td>back off</td>\n",
       "      <td>get on</td>\n",
       "    </tr>\n",
       "    <tr>\n",
       "      <th>677</th>\n",
       "      <td>давай поплаваем</td>\n",
       "      <td>lets swim</td>\n",
       "      <td>lets quit</td>\n",
       "    </tr>\n",
       "  </tbody>\n",
       "</table>\n",
       "</div>"
      ],
      "text/plain": [
       "            input rus   actual eng     predicted eng\n",
       "910       вы пытались    you tried   you tried      \n",
       "259     я его закопал  i buried it    i said it     \n",
       "87      я спасла тебя  i saved you   i know you     \n",
       "663      я её закопал  i buried it   i could it     \n",
       "793   давай попробуем     lets try    lets try      \n",
       "388     оно мне нужно    i need it    i need it     \n",
       "191  я спросил почему  i asked why  i work well     \n",
       "430  у него есть вино  he has wine   i have eat     \n",
       "845  мне хочется пить   im thirsty  im thirsty      \n",
       "397        одно синее  one is blue     what we      \n",
       "604         я её сжёг  i burned it   i could it     \n",
       "2         я вернулась  i came back   im buying      \n",
       "368    я благоразумна   im prudent  im stunned      \n",
       "92           отойдите     back off      get on      \n",
       "677   давай поплаваем    lets swim   lets quit      "
      ]
     },
     "execution_count": 184,
     "metadata": {},
     "output_type": "execute_result"
    }
   ],
   "source": [
    "\n",
    "pred_df.sample(15)"
   ]
  },
  {
   "cell_type": "code",
   "execution_count": 179,
   "id": "e5fb52e3-f28a-4353-a6f3-ed8d69ea1535",
   "metadata": {},
   "outputs": [
    {
     "name": "stdout",
     "output_type": "stream",
     "text": [
      "0.00000\n",
      "1.4168066944670677e-231\n"
     ]
    }
   ],
   "source": [
    "from nltk.translate.bleu_score import corpus_bleu\n",
    "references = pred_df_1['actual']\n",
    "candidates = pred_df_1['predicted']\n",
    "score = corpus_bleu(references, candidates)\n",
    "print('{:.5f}'.format(score))\n",
    "print(score)"
   ]
  },
  {
   "cell_type": "code",
   "execution_count": 180,
   "id": "afaa0d0b-2b17-41b0-af0e-1ed1eb5fd95f",
   "metadata": {},
   "outputs": [
    {
     "name": "stdout",
     "output_type": "stream",
     "text": [
      "0.00000\n",
      "3.899510617627667e-232\n"
     ]
    }
   ],
   "source": [
    "from nltk.translate.bleu_score import corpus_bleu\n",
    "references = pred_df['actual']\n",
    "candidates = pred_df['predicted']\n",
    "score = corpus_bleu(references, candidates)\n",
    "print('{:.5f}'.format(score))\n",
    "print(score)"
   ]
  },
  {
   "cell_type": "code",
   "execution_count": 168,
   "id": "30cbba58-d5c8-4656-8baa-dbd0bbf90cf1",
   "metadata": {},
   "outputs": [
    {
     "name": "stdout",
     "output_type": "stream",
     "text": [
      "Model: \"sequential_11\"\n",
      "_________________________________________________________________\n",
      "Layer (type)                 Output Shape              Param #   \n",
      "=================================================================\n",
      "embedding_11 (Embedding)     (None, 8, 512)            1458176   \n",
      "_________________________________________________________________\n",
      "lstm_22 (LSTM)               (None, 512)               2099200   \n",
      "_________________________________________________________________\n",
      "repeat_vector_11 (RepeatVect (None, 8, 512)            0         \n",
      "_________________________________________________________________\n",
      "lstm_23 (LSTM)               (None, 8, 512)            2099200   \n",
      "_________________________________________________________________\n",
      "dense_11 (Dense)             (None, 8, 1105)           566865    \n",
      "=================================================================\n",
      "Total params: 6,223,441\n",
      "Trainable params: 6,223,441\n",
      "Non-trainable params: 0\n",
      "_________________________________________________________________\n",
      "None\n"
     ]
    }
   ],
   "source": [
    "print(model.summary())"
   ]
  },
  {
   "cell_type": "code",
   "execution_count": null,
   "id": "bb56d64a-69a2-4cfd-bd10-aed92f07e7b8",
   "metadata": {},
   "outputs": [],
   "source": []
  }
 ],
 "metadata": {
  "kernelspec": {
   "display_name": "Python 3 (ipykernel)",
   "language": "python",
   "name": "python3"
  },
  "language_info": {
   "codemirror_mode": {
    "name": "ipython",
    "version": 3
   },
   "file_extension": ".py",
   "mimetype": "text/x-python",
   "name": "python",
   "nbconvert_exporter": "python",
   "pygments_lexer": "ipython3",
   "version": "3.8.11"
  }
 },
 "nbformat": 4,
 "nbformat_minor": 5
}
